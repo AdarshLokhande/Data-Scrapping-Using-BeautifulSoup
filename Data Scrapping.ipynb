{
 "cells": [
  {
   "cell_type": "markdown",
   "id": "6e901707-14f5-41c6-b7f2-30e30a8d54f1",
   "metadata": {},
   "source": [
    "## Data Scrapping using Beautiful Soup Library "
   ]
  },
  {
   "cell_type": "markdown",
   "id": "2c95fab7-2cd8-41aa-852f-203735802a5e",
   "metadata": {},
   "source": [
    "#### Insiderbiz , this website gives a information of companies in structured manner , my objective is to extract multiple pages data using python libraries like requests and beautifulsoup"
   ]
  },
  {
   "cell_type": "code",
   "execution_count": 1,
   "id": "c6f931cd-1309-41fb-8ee5-bb271725387c",
   "metadata": {},
   "outputs": [],
   "source": [
    "link = 'https://www.insiderbiz.in/company-list?page=1https://www.insiderbiz.in/company-list?page='"
   ]
  },
  {
   "cell_type": "code",
   "execution_count": 2,
   "id": "6b1a58dc-b26d-49e5-9ff4-c4385ae45afc",
   "metadata": {},
   "outputs": [],
   "source": [
    "links = [link + str(x) for x in range(1,6)]"
   ]
  },
  {
   "cell_type": "code",
   "execution_count": 3,
   "id": "5efb18a2-6cb8-4809-9e74-ef8cda492978",
   "metadata": {},
   "outputs": [
    {
     "data": {
      "text/plain": [
       "['https://www.insiderbiz.in/company-list?page=1https://www.insiderbiz.in/company-list?page=1',\n",
       " 'https://www.insiderbiz.in/company-list?page=1https://www.insiderbiz.in/company-list?page=2',\n",
       " 'https://www.insiderbiz.in/company-list?page=1https://www.insiderbiz.in/company-list?page=3',\n",
       " 'https://www.insiderbiz.in/company-list?page=1https://www.insiderbiz.in/company-list?page=4',\n",
       " 'https://www.insiderbiz.in/company-list?page=1https://www.insiderbiz.in/company-list?page=5']"
      ]
     },
     "execution_count": 3,
     "metadata": {},
     "output_type": "execute_result"
    }
   ],
   "source": [
    "links"
   ]
  },
  {
   "cell_type": "code",
   "execution_count": 4,
   "id": "9987d42c-f9bc-4b4c-b014-243ce2c4d7c8",
   "metadata": {},
   "outputs": [],
   "source": [
    "import pandas as pd\n",
    "import requests\n",
    "from bs4 import BeautifulSoup"
   ]
  },
  {
   "cell_type": "code",
   "execution_count": 5,
   "id": "117658c2-eb03-453c-927d-92e0c707537b",
   "metadata": {},
   "outputs": [],
   "source": [
    "all_data = []"
   ]
  },
  {
   "cell_type": "code",
   "execution_count": 6,
   "id": "722b4961-0092-4c96-8869-51aef33ad87a",
   "metadata": {},
   "outputs": [],
   "source": [
    "for i in links:\n",
    "    try:\n",
    "        response = requests.get(i)\n",
    "        response.raise_for_status() # check if the request was successful\n",
    "        soup = BeautifulSoup(response.content, 'html.parser')\n",
    "        table = soup.find('table') # finding tabular data (aadjust based on the website structure)\n",
    "        df = pd.read_html(str(table))[0]  # 0 for the first table in case there are multiple tables\n",
    "        all_data.append(df)\n",
    "    except Exception as e:\n",
    "        print(f'error occured while scrapping {i}: {e}')"
   ]
  },
  {
   "cell_type": "code",
   "execution_count": 9,
   "id": "f16c32cf-41ea-4aff-909b-19986be9de47",
   "metadata": {},
   "outputs": [],
   "source": [
    "combined_data = pd.concat(all_data, ignore_index = True)"
   ]
  },
  {
   "cell_type": "code",
   "execution_count": 10,
   "id": "3b40274d-b29a-4efe-8756-ea15c6d05050",
   "metadata": {},
   "outputs": [],
   "source": [
    "df = pd.DataFrame(combined_data)"
   ]
  },
  {
   "cell_type": "code",
   "execution_count": 11,
   "id": "179d484e-0122-4827-8725-d9dd6711987b",
   "metadata": {},
   "outputs": [
    {
     "data": {
      "text/html": [
       "<div>\n",
       "<style scoped>\n",
       "    .dataframe tbody tr th:only-of-type {\n",
       "        vertical-align: middle;\n",
       "    }\n",
       "\n",
       "    .dataframe tbody tr th {\n",
       "        vertical-align: top;\n",
       "    }\n",
       "\n",
       "    .dataframe thead th {\n",
       "        text-align: right;\n",
       "    }\n",
       "</style>\n",
       "<table border=\"1\" class=\"dataframe\">\n",
       "  <thead>\n",
       "    <tr style=\"text-align: right;\">\n",
       "      <th></th>\n",
       "      <th>CIN</th>\n",
       "      <th>COMPANY NAME</th>\n",
       "      <th>ROC</th>\n",
       "      <th>Address</th>\n",
       "    </tr>\n",
       "  </thead>\n",
       "  <tbody>\n",
       "    <tr>\n",
       "      <th>0</th>\n",
       "      <td>U74999RJ1857PLC000649</td>\n",
       "      <td>JHUNJHUNU COMMERCIAL COMPANY LIMITED</td>\n",
       "      <td>ROC-JAIPUR</td>\n",
       "      <td>RJ IN</td>\n",
       "    </tr>\n",
       "    <tr>\n",
       "      <th>1</th>\n",
       "      <td>U15499WB1863PTC000111</td>\n",
       "      <td>CHEVIOT AGRO INDUSTRIES PRIVATE LIMITED</td>\n",
       "      <td>ROC-KOLKATA</td>\n",
       "      <td>CELICA HOUSE, 9TH FLOOR, CELICA PARK 24 PARK S...</td>\n",
       "    </tr>\n",
       "    <tr>\n",
       "      <th>2</th>\n",
       "      <td>L50403WB1863PLC000114</td>\n",
       "      <td>C L S LTD</td>\n",
       "      <td>ROC-KOLKATA</td>\n",
       "      <td>20, SALKIA SCHOOL ROAD SALKIA HOWRAH WB 711106 IN</td>\n",
       "    </tr>\n",
       "    <tr>\n",
       "      <th>3</th>\n",
       "      <td>L99999MH1863PLC000002</td>\n",
       "      <td>BOMBAY BURMAH TRADING CORPORATION LIMITED</td>\n",
       "      <td>ROC-MUMBAI</td>\n",
       "      <td>9, WALLACE STREET,FORT MUMBAI, PIN - 400 001. ...</td>\n",
       "    </tr>\n",
       "    <tr>\n",
       "      <th>4</th>\n",
       "      <td>U01132WB1871PLC000233</td>\n",
       "      <td>SINGELL TEA AND AGRICULTURAL INDUSTRIESLTD</td>\n",
       "      <td>ROC-KOLKATA</td>\n",
       "      <td>D4-39/A/NEW HINDUSTAN GAS COMPANY ROAD -1 PO: ...</td>\n",
       "    </tr>\n",
       "    <tr>\n",
       "      <th>...</th>\n",
       "      <td>...</td>\n",
       "      <td>...</td>\n",
       "      <td>...</td>\n",
       "      <td>...</td>\n",
       "    </tr>\n",
       "    <tr>\n",
       "      <th>250</th>\n",
       "      <td>U65929TN1886PLC000672</td>\n",
       "      <td>EGMORE BENEFIT SOCIETY LIMITED</td>\n",
       "      <td>ROC-CHENNAI</td>\n",
       "      <td>NEW NO.25, OLD NO.13 FLOWERS ROAD MADRAS TN 60...</td>\n",
       "    </tr>\n",
       "    <tr>\n",
       "      <th>251</th>\n",
       "      <td>U99999MH1886PLC010245</td>\n",
       "      <td>THE BERAR TRADING COMPANY LIMITED</td>\n",
       "      <td>ROC-MUMBAI</td>\n",
       "      <td>DEEPLAXMI APARTMENT, SHOP NO. 10 BIRLA GATE NO...</td>\n",
       "    </tr>\n",
       "    <tr>\n",
       "      <th>252</th>\n",
       "      <td>U99999UP1887NPL000012</td>\n",
       "      <td>BHARATVARSHIYA NATIONAL ASSOCIATION</td>\n",
       "      <td>ROC-KANPUR</td>\n",
       "      <td>G.T. ROAD ALIGARH ALIGARH UP 202001 IN</td>\n",
       "    </tr>\n",
       "    <tr>\n",
       "      <th>253</th>\n",
       "      <td>U70101MH1888PTC000079</td>\n",
       "      <td>JOHN ROBERTS AND COMPANY PRIVATE LIMITED</td>\n",
       "      <td>ROC-MUMBAI</td>\n",
       "      <td>SEWRI FORT ROAD SEWRI MUMBAI Mumbai City MH 40...</td>\n",
       "    </tr>\n",
       "    <tr>\n",
       "      <th>254</th>\n",
       "      <td>1 2 3 4 5 &gt;</td>\n",
       "      <td>1 2 3 4 5 &gt;</td>\n",
       "      <td>1 2 3 4 5 &gt;</td>\n",
       "      <td>1 2 3 4 5 &gt;</td>\n",
       "    </tr>\n",
       "  </tbody>\n",
       "</table>\n",
       "<p>255 rows × 4 columns</p>\n",
       "</div>"
      ],
      "text/plain": [
       "                       CIN                                COMPANY NAME  \\\n",
       "0    U74999RJ1857PLC000649        JHUNJHUNU COMMERCIAL COMPANY LIMITED   \n",
       "1    U15499WB1863PTC000111     CHEVIOT AGRO INDUSTRIES PRIVATE LIMITED   \n",
       "2    L50403WB1863PLC000114                                   C L S LTD   \n",
       "3    L99999MH1863PLC000002   BOMBAY BURMAH TRADING CORPORATION LIMITED   \n",
       "4    U01132WB1871PLC000233  SINGELL TEA AND AGRICULTURAL INDUSTRIESLTD   \n",
       "..                     ...                                         ...   \n",
       "250  U65929TN1886PLC000672              EGMORE BENEFIT SOCIETY LIMITED   \n",
       "251  U99999MH1886PLC010245           THE BERAR TRADING COMPANY LIMITED   \n",
       "252  U99999UP1887NPL000012         BHARATVARSHIYA NATIONAL ASSOCIATION   \n",
       "253  U70101MH1888PTC000079    JOHN ROBERTS AND COMPANY PRIVATE LIMITED   \n",
       "254            1 2 3 4 5 >                                 1 2 3 4 5 >   \n",
       "\n",
       "             ROC                                            Address  \n",
       "0     ROC-JAIPUR                                              RJ IN  \n",
       "1    ROC-KOLKATA  CELICA HOUSE, 9TH FLOOR, CELICA PARK 24 PARK S...  \n",
       "2    ROC-KOLKATA  20, SALKIA SCHOOL ROAD SALKIA HOWRAH WB 711106 IN  \n",
       "3     ROC-MUMBAI  9, WALLACE STREET,FORT MUMBAI, PIN - 400 001. ...  \n",
       "4    ROC-KOLKATA  D4-39/A/NEW HINDUSTAN GAS COMPANY ROAD -1 PO: ...  \n",
       "..           ...                                                ...  \n",
       "250  ROC-CHENNAI  NEW NO.25, OLD NO.13 FLOWERS ROAD MADRAS TN 60...  \n",
       "251   ROC-MUMBAI  DEEPLAXMI APARTMENT, SHOP NO. 10 BIRLA GATE NO...  \n",
       "252   ROC-KANPUR             G.T. ROAD ALIGARH ALIGARH UP 202001 IN  \n",
       "253   ROC-MUMBAI  SEWRI FORT ROAD SEWRI MUMBAI Mumbai City MH 40...  \n",
       "254  1 2 3 4 5 >                                        1 2 3 4 5 >  \n",
       "\n",
       "[255 rows x 4 columns]"
      ]
     },
     "execution_count": 11,
     "metadata": {},
     "output_type": "execute_result"
    }
   ],
   "source": [
    "df"
   ]
  },
  {
   "cell_type": "code",
   "execution_count": 12,
   "id": "e4130360-01d6-4127-a429-d325dae96260",
   "metadata": {},
   "outputs": [
    {
     "name": "stdout",
     "output_type": "stream",
     "text": [
      "<class 'pandas.core.frame.DataFrame'>\n",
      "RangeIndex: 255 entries, 0 to 254\n",
      "Data columns (total 4 columns):\n",
      " #   Column        Non-Null Count  Dtype \n",
      "---  ------        --------------  ----- \n",
      " 0   CIN           255 non-null    object\n",
      " 1   COMPANY NAME  255 non-null    object\n",
      " 2   ROC           255 non-null    object\n",
      " 3   Address       255 non-null    object\n",
      "dtypes: object(4)\n",
      "memory usage: 8.1+ KB\n"
     ]
    }
   ],
   "source": [
    "df.info()"
   ]
  },
  {
   "cell_type": "code",
   "execution_count": 15,
   "id": "a9f43a31-b259-4364-9f91-bf84e35043b9",
   "metadata": {},
   "outputs": [
    {
     "data": {
      "text/plain": [
       "CIN             0\n",
       "COMPANY NAME    0\n",
       "ROC             0\n",
       "Address         0\n",
       "dtype: int64"
      ]
     },
     "execution_count": 15,
     "metadata": {},
     "output_type": "execute_result"
    }
   ],
   "source": [
    "df.isnull().sum()"
   ]
  },
  {
   "cell_type": "markdown",
   "id": "268f880b-cfb6-4913-9e5b-a7fdae850b04",
   "metadata": {},
   "source": [
    "### Hence Data is Extracted"
   ]
  }
 ],
 "metadata": {
  "kernelspec": {
   "display_name": "Python 3 (ipykernel)",
   "language": "python",
   "name": "python3"
  },
  "language_info": {
   "codemirror_mode": {
    "name": "ipython",
    "version": 3
   },
   "file_extension": ".py",
   "mimetype": "text/x-python",
   "name": "python",
   "nbconvert_exporter": "python",
   "pygments_lexer": "ipython3",
   "version": "3.9.12"
  }
 },
 "nbformat": 4,
 "nbformat_minor": 5
}
